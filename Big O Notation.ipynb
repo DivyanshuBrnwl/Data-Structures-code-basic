{
 "cells": [
  {
   "cell_type": "code",
   "execution_count": 1,
   "id": "407aaf7a",
   "metadata": {},
   "outputs": [],
   "source": [
    "numbers = [3, 6, 2, 4, 3, 6, 8, 9]"
   ]
  },
  {
   "cell_type": "code",
   "execution_count": 4,
   "id": "873382a6",
   "metadata": {},
   "outputs": [
    {
     "name": "stdout",
     "output_type": "stream",
     "text": [
      "3\n",
      "6\n"
     ]
    }
   ],
   "source": [
    "for i in range (len(numbers)):\n",
    "    for j in range (i+1, len(numbers)):\n",
    "        if numbers[i] == numbers[j]:\n",
    "            print(numbers[i])"
   ]
  },
  {
   "cell_type": "code",
   "execution_count": 5,
   "id": "6782f6e0",
   "metadata": {},
   "outputs": [],
   "source": [
    "num = [4, 9, 15, 21, 34, 57, 68, 91]"
   ]
  },
  {
   "cell_type": "code",
   "execution_count": 16,
   "id": "fba368a0",
   "metadata": {},
   "outputs": [],
   "source": [
    "pos = -1\n",
    "\n",
    "def Search(list, num):\n",
    "    l = 0\n",
    "    u = len(list) - 1\n",
    "    \n",
    "    while l<=u:\n",
    "        mid = (l+u)//2\n",
    "        \n",
    "        if list[mid] == num:\n",
    "            globals()['pos']=mid\n",
    "            return True\n",
    "        else:\n",
    "            if list[mid]<num:\n",
    "                l = mid+1\n",
    "            else:\n",
    "                u = mid + 1\n",
    "    return False"
   ]
  },
  {
   "cell_type": "code",
   "execution_count": 18,
   "id": "0c398a0d",
   "metadata": {},
   "outputs": [
    {
     "name": "stdout",
     "output_type": "stream",
     "text": [
      "Find at pos 7\n"
     ]
    }
   ],
   "source": [
    "list = [4, 7, 8, 12, 45, 99, 102, 702, 10987, 56666]\n",
    "num = 102\n",
    "if Search(list, num):\n",
    "    print(\"Find at pos\", pos+1)\n",
    "else:\n",
    "    print(\"Not Found\")"
   ]
  },
  {
   "cell_type": "code",
   "execution_count": 19,
   "id": "5d124734",
   "metadata": {},
   "outputs": [],
   "source": [
    "list = [4, 7, 8, 12, 45, 99, 102, 702]"
   ]
  },
  {
   "cell_type": "code",
   "execution_count": 22,
   "id": "7dae048e",
   "metadata": {},
   "outputs": [],
   "source": [
    "list.insert(3, 345)"
   ]
  },
  {
   "cell_type": "code",
   "execution_count": 23,
   "id": "2f6306e4",
   "metadata": {},
   "outputs": [
    {
     "data": {
      "text/plain": [
       "[4, 7, 8, 345, 12, 45, 99, 102, 702, 3]"
      ]
     },
     "execution_count": 23,
     "metadata": {},
     "output_type": "execute_result"
    }
   ],
   "source": [
    "list"
   ]
  },
  {
   "cell_type": "code",
   "execution_count": 27,
   "id": "c871e28a",
   "metadata": {},
   "outputs": [],
   "source": [
    "list.remove(4)"
   ]
  },
  {
   "cell_type": "code",
   "execution_count": 28,
   "id": "4770c0d3",
   "metadata": {},
   "outputs": [
    {
     "data": {
      "text/plain": [
       "[7, 345, 12, 45, 99, 102, 702, 3]"
      ]
     },
     "execution_count": 28,
     "metadata": {},
     "output_type": "execute_result"
    }
   ],
   "source": [
    "list"
   ]
  },
  {
   "cell_type": "code",
   "execution_count": 30,
   "id": "5f7ec4b1",
   "metadata": {},
   "outputs": [
    {
     "data": {
      "text/plain": [
       "12"
      ]
     },
     "execution_count": 30,
     "metadata": {},
     "output_type": "execute_result"
    }
   ],
   "source": [
    "list.pop(2)"
   ]
  },
  {
   "cell_type": "code",
   "execution_count": 31,
   "id": "d551ef75",
   "metadata": {},
   "outputs": [
    {
     "data": {
      "text/plain": [
       "[7, 345, 45, 99, 102, 702, 3]"
      ]
     },
     "execution_count": 31,
     "metadata": {},
     "output_type": "execute_result"
    }
   ],
   "source": [
    "list"
   ]
  },
  {
   "cell_type": "code",
   "execution_count": null,
   "id": "b2004b9b",
   "metadata": {},
   "outputs": [],
   "source": []
  }
 ],
 "metadata": {
  "kernelspec": {
   "display_name": "Python 3 (ipykernel)",
   "language": "python",
   "name": "python3"
  },
  "language_info": {
   "codemirror_mode": {
    "name": "ipython",
    "version": 3
   },
   "file_extension": ".py",
   "mimetype": "text/x-python",
   "name": "python",
   "nbconvert_exporter": "python",
   "pygments_lexer": "ipython3",
   "version": "3.9.12"
  }
 },
 "nbformat": 4,
 "nbformat_minor": 5
}
