{
 "cells": [
  {
   "cell_type": "markdown",
   "id": "e2df7e43",
   "metadata": {},
   "source": [
    "<!-- Let us say your expense for every month are listed below,\n",
    "January - 2200\n",
    "February - 2350\n",
    "March - 2600\n",
    "April - 2130\n",
    "May - 2190\n",
    "Create a list to store these monthly expenses and using that find out, -->"
   ]
  },
  {
   "cell_type": "markdown",
   "id": "e2ec036e",
   "metadata": {},
   "source": [
    "<!-- 1. In Feb, how many dollars you spent extra compare to January?\n",
    "2. Find out your total expense in first quarter (first three months) of the year.\n",
    "3. Find out if you spent exactly 2000 dollars in any month\n",
    "4. June month just finished and your expense is 1980 dollar. Add this item to our monthly expense list\n",
    "5. You returned an item that you bought in a month of April and\n",
    "got a refund of 200$. Make a correction to your monthly expense list\n",
    "based on this -->"
   ]
  },
  {
   "cell_type": "code",
   "execution_count": 1,
   "id": "5e0d132a",
   "metadata": {},
   "outputs": [],
   "source": [
    "# 1. In Feb, how many dollars you spent extra compare to January?\n",
    "# 2. Find out your total expense in first quarter (first three months) of the year.# 2. Find out your total expense in first quarter (first three months) of the year.\n",
    "# 3. Find out if you spent exactly 2000 dollars in any month\n",
    "# 4. June month just finished and your expense is 1980 dollar. Add this item to our monthly expense list\n",
    "# 5. You returned an item that you bought in a month of April and\n",
    "# got a refund of 200$. Make a correction to your monthly expense list\n",
    "# based on this"
   ]
  },
  {
   "cell_type": "code",
   "execution_count": 19,
   "id": "8912be99",
   "metadata": {},
   "outputs": [],
   "source": [
    "month_wise_expenses = [{'Month':'January', 'price':2200}, {'Month':'February', 'price':2350},{'Month':'March', 'price':2600}, {'Month':'April', 'price':2130}, {'Month':'May', 'price':2190}]"
   ]
  },
  {
   "cell_type": "code",
   "execution_count": 20,
   "id": "41e05748",
   "metadata": {},
   "outputs": [
    {
     "data": {
      "text/plain": [
       "[{'Month': 'January', 'price': 2200},\n",
       " {'Month': 'February', 'price': 2350},\n",
       " {'Month': 'March', 'price': 2600},\n",
       " {'Month': 'April', 'price': 2130},\n",
       " {'Month': 'May', 'price': 2190}]"
      ]
     },
     "execution_count": 20,
     "metadata": {},
     "output_type": "execute_result"
    }
   ],
   "source": [
    "month_wise_expenses"
   ]
  },
  {
   "cell_type": "code",
   "execution_count": 33,
   "id": "a64ef381",
   "metadata": {},
   "outputs": [],
   "source": [
    "monthly_expenses = [2200, 2350, 2600, 2130, 2190]"
   ]
  },
  {
   "cell_type": "code",
   "execution_count": 34,
   "id": "7221efdc",
   "metadata": {},
   "outputs": [
    {
     "name": "stdout",
     "output_type": "stream",
     "text": [
      "In month of february i spend 150 more than the month of january\n"
     ]
    }
   ],
   "source": [
    "# 1. In Feb, how many dollars you spent extra compare to January?\n",
    "print(f\"In month of february i spend {monthly_expenses[1] - monthly_expenses[0]} more than the month of january\")"
   ]
  },
  {
   "cell_type": "code",
   "execution_count": 35,
   "id": "2c33ca42",
   "metadata": {},
   "outputs": [
    {
     "name": "stdout",
     "output_type": "stream",
     "text": [
      "The total expense of first three month is 7150\n"
     ]
    }
   ],
   "source": [
    "# 2. Find out your total expense in first quarter (first three months) of the year.\n",
    "print(f\"The total expense of first three month is {monthly_expenses[0] + monthly_expenses[1] + monthly_expenses[2]}\")"
   ]
  },
  {
   "cell_type": "code",
   "execution_count": 39,
   "id": "48501c80",
   "metadata": {},
   "outputs": [
    {
     "name": "stdout",
     "output_type": "stream",
     "text": [
      "Did I spend 2000 dollars in any match ?  False\n"
     ]
    }
   ],
   "source": [
    "# 3. Find out if you spent exactly 2000 dollars in any month\n",
    "print(\"Did I spend 2000 dollars in any match ? \", 2000 in monthly_expenses)"
   ]
  },
  {
   "cell_type": "code",
   "execution_count": 40,
   "id": "5c229749",
   "metadata": {},
   "outputs": [],
   "source": [
    "# 4. June month just finished and your expense is 1980 dollar. Add this item to our monthly expense list\n",
    "monthly_expenses.append(1980)"
   ]
  },
  {
   "cell_type": "code",
   "execution_count": 41,
   "id": "a9f28ecd",
   "metadata": {},
   "outputs": [
    {
     "data": {
      "text/plain": [
       "[2200, 2350, 2600, 2130, 2190, 1980]"
      ]
     },
     "execution_count": 41,
     "metadata": {},
     "output_type": "execute_result"
    }
   ],
   "source": [
    "monthly_expenses"
   ]
  },
  {
   "cell_type": "code",
   "execution_count": 42,
   "id": "4f0563a4",
   "metadata": {},
   "outputs": [],
   "source": [
    "# 5. You returned an item that you bought in a month of April and\n",
    "# got a refund of 200$. Make a correction to your monthly expense list\n",
    "# based on this"
   ]
  },
  {
   "cell_type": "code",
   "execution_count": 43,
   "id": "39c37122",
   "metadata": {},
   "outputs": [],
   "source": [
    "monthly_expenses[3]=1930"
   ]
  },
  {
   "cell_type": "code",
   "execution_count": 44,
   "id": "5e11e64b",
   "metadata": {},
   "outputs": [
    {
     "data": {
      "text/plain": [
       "[2200, 2350, 2600, 1930, 2190, 1980]"
      ]
     },
     "execution_count": 44,
     "metadata": {},
     "output_type": "execute_result"
    }
   ],
   "source": [
    "monthly_expenses"
   ]
  },
  {
   "cell_type": "code",
   "execution_count": 81,
   "id": "9dcdd89b",
   "metadata": {},
   "outputs": [],
   "source": [
    "# 2. You have a list of your favourite marvel super heros\n",
    "heros=['spider man','thor','hulk','iron man','captain america']"
   ]
  },
  {
   "cell_type": "code",
   "execution_count": 82,
   "id": "9177e229",
   "metadata": {},
   "outputs": [],
   "source": [
    "# 1. Length of the list\n",
    "# 2. Add 'black panther' at the end of this list\n",
    "# 3. You realize that you need to add 'black panther' after 'hulk',\n",
    "#    so remove it from the list first and then add it after 'hulk'\n",
    "# 4. Now you don't like thor and hulk because they get angry easily :)\n",
    "#    So you want to remove thor and hulk from list and replace them with doctor strange (because he is cool).\n",
    "#    Do that with one line of code.\n",
    "# 5. Sort the heros list in alphabetical order (Hint. Use dir() functions to list down all functions available in list)"
   ]
  },
  {
   "cell_type": "code",
   "execution_count": 83,
   "id": "87c01903",
   "metadata": {},
   "outputs": [
    {
     "data": {
      "text/plain": [
       "5"
      ]
     },
     "execution_count": 83,
     "metadata": {},
     "output_type": "execute_result"
    }
   ],
   "source": [
    "# 1. Length of the list\n",
    "len(heros)"
   ]
  },
  {
   "cell_type": "code",
   "execution_count": 84,
   "id": "8dbd2ab8",
   "metadata": {},
   "outputs": [],
   "source": [
    "# 2. Add 'black panther' at the end of this list\n",
    "heros.append('black panther')"
   ]
  },
  {
   "cell_type": "code",
   "execution_count": 85,
   "id": "8314e0f3",
   "metadata": {},
   "outputs": [],
   "source": [
    "# 3. You realize that you need to add 'black panther' after 'hulk',\n",
    "#    so remove it from the list first and then add it after 'hulk'\n",
    "if 'black panther' in heros:\n",
    "    heros.remove('black panther')\n",
    "heros.insert(3, 'black panther')"
   ]
  },
  {
   "cell_type": "code",
   "execution_count": 86,
   "id": "b6070560",
   "metadata": {},
   "outputs": [
    {
     "data": {
      "text/plain": [
       "['spider man', 'thor', 'hulk', 'black panther', 'iron man', 'captain america']"
      ]
     },
     "execution_count": 86,
     "metadata": {},
     "output_type": "execute_result"
    }
   ],
   "source": [
    "heros"
   ]
  },
  {
   "cell_type": "code",
   "execution_count": 87,
   "id": "33d5c483",
   "metadata": {},
   "outputs": [],
   "source": [
    "# 4. Now you don't like thor and hulk because they get angry easily :)\n",
    "#    So you want to remove thor and hulk from list and replace them with doctor strange (because he is cool).\n",
    "#    Do that with one line of code.\n",
    "\n"
   ]
  },
  {
   "cell_type": "code",
   "execution_count": 88,
   "id": "1241f1f0",
   "metadata": {},
   "outputs": [],
   "source": [
    "heros[1:3]=['doctor strange']"
   ]
  },
  {
   "cell_type": "code",
   "execution_count": 89,
   "id": "129662a1",
   "metadata": {},
   "outputs": [
    {
     "data": {
      "text/plain": [
       "['spider man',\n",
       " 'doctor strange',\n",
       " 'black panther',\n",
       " 'iron man',\n",
       " 'captain america']"
      ]
     },
     "execution_count": 89,
     "metadata": {},
     "output_type": "execute_result"
    }
   ],
   "source": [
    "heros"
   ]
  },
  {
   "cell_type": "code",
   "execution_count": 90,
   "id": "0f8d3503",
   "metadata": {},
   "outputs": [],
   "source": [
    "# 5. Sort the heros list in alphabetical order (Hint. Use dir() functions to list down all functions available in list)\n",
    "heros.sort()"
   ]
  },
  {
   "cell_type": "code",
   "execution_count": 91,
   "id": "cf3d7767",
   "metadata": {},
   "outputs": [
    {
     "data": {
      "text/plain": [
       "['black panther',\n",
       " 'captain america',\n",
       " 'doctor strange',\n",
       " 'iron man',\n",
       " 'spider man']"
      ]
     },
     "execution_count": 91,
     "metadata": {},
     "output_type": "execute_result"
    }
   ],
   "source": [
    "heros"
   ]
  },
  {
   "cell_type": "code",
   "execution_count": 92,
   "id": "c4dc0413",
   "metadata": {},
   "outputs": [],
   "source": [
    "# Create a list of all odd numbers between 1 and a max number. Max number is something you need to take from a user using input() function"
   ]
  },
  {
   "cell_type": "code",
   "execution_count": 95,
   "id": "2d14ef9d",
   "metadata": {},
   "outputs": [
    {
     "name": "stdout",
     "output_type": "stream",
     "text": [
      "Enter the number21\n",
      "1\n",
      "3\n",
      "5\n",
      "7\n",
      "9\n",
      "11\n",
      "13\n",
      "15\n",
      "17\n",
      "19\n"
     ]
    }
   ],
   "source": [
    "max1 = int(input(\"Enter the number\"))\n",
    "for i in range(1,max1,2):\n",
    "    print(i)"
   ]
  },
  {
   "cell_type": "code",
   "execution_count": null,
   "id": "48ff991c",
   "metadata": {},
   "outputs": [],
   "source": []
  }
 ],
 "metadata": {
  "kernelspec": {
   "display_name": "Python 3 (ipykernel)",
   "language": "python",
   "name": "python3"
  },
  "language_info": {
   "codemirror_mode": {
    "name": "ipython",
    "version": 3
   },
   "file_extension": ".py",
   "mimetype": "text/x-python",
   "name": "python",
   "nbconvert_exporter": "python",
   "pygments_lexer": "ipython3",
   "version": "3.9.12"
  }
 },
 "nbformat": 4,
 "nbformat_minor": 5
}
