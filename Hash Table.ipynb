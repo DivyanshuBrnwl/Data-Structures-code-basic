{
 "cells": [
  {
   "cell_type": "code",
   "execution_count": 11,
   "id": "7230cf1c",
   "metadata": {},
   "outputs": [],
   "source": [
    "stock_prices = []\n",
    "with open(\"stock_prices.csv\", 'r')as f:\n",
    "    for line in f:\n",
    "        day, price = line.split(',')\n",
    "        price = float(price)\n",
    "        stock_prices.append([day, price])"
   ]
  },
  {
   "cell_type": "code",
   "execution_count": 12,
   "id": "677d6a4f",
   "metadata": {},
   "outputs": [
    {
     "data": {
      "text/plain": [
       "[['06-Mar', 310.0],\n",
       " ['07-Mar', 340.0],\n",
       " ['08-Mar', 380.0],\n",
       " ['09-Mar', 302.0],\n",
       " ['10-Mar', 297.0],\n",
       " ['11-Mar', 323.0]]"
      ]
     },
     "execution_count": 12,
     "metadata": {},
     "output_type": "execute_result"
    }
   ],
   "source": [
    "stock_prices"
   ]
  },
  {
   "cell_type": "code",
   "execution_count": 13,
   "id": "7f811e9f",
   "metadata": {},
   "outputs": [
    {
     "name": "stdout",
     "output_type": "stream",
     "text": [
      "302.0\n"
     ]
    }
   ],
   "source": [
    "for element in stock_prices:\n",
    "    if element[0] == '09-Mar':\n",
    "        print(element[1])"
   ]
  },
  {
   "cell_type": "code",
   "execution_count": 14,
   "id": "d4298c85",
   "metadata": {},
   "outputs": [],
   "source": [
    "stock_prices = {}\n",
    "with open(\"stock_prices.csv\", 'r')as f:\n",
    "    for line in f:\n",
    "        day, price = line.split(',')\n",
    "        price = float(price)\n",
    "        stock_prices[day] = price"
   ]
  },
  {
   "cell_type": "code",
   "execution_count": 15,
   "id": "23c14f43",
   "metadata": {},
   "outputs": [
    {
     "data": {
      "text/plain": [
       "{'06-Mar': 310.0,\n",
       " '07-Mar': 340.0,\n",
       " '08-Mar': 380.0,\n",
       " '09-Mar': 302.0,\n",
       " '10-Mar': 297.0,\n",
       " '11-Mar': 323.0}"
      ]
     },
     "execution_count": 15,
     "metadata": {},
     "output_type": "execute_result"
    }
   ],
   "source": [
    "stock_prices"
   ]
  },
  {
   "cell_type": "code",
   "execution_count": 16,
   "id": "15fe0b2b",
   "metadata": {},
   "outputs": [
    {
     "data": {
      "text/plain": [
       "323.0"
      ]
     },
     "execution_count": 16,
     "metadata": {},
     "output_type": "execute_result"
    }
   ],
   "source": [
    "stock_prices['11-Mar']"
   ]
  },
  {
   "cell_type": "code",
   "execution_count": 19,
   "id": "9e3fbd95",
   "metadata": {},
   "outputs": [],
   "source": [
    "#This is just for practice\n",
    "Simple_int ={}\n",
    "with open(\"Book1.csv\", 'r')as f:\n",
    "    for line in f:\n",
    "        name, interest = line.split(',')\n",
    "        interest = float(interest)\n",
    "        Simple_int[name]=interest"
   ]
  },
  {
   "cell_type": "code",
   "execution_count": 24,
   "id": "1a2a7d89",
   "metadata": {},
   "outputs": [
    {
     "name": "stdout",
     "output_type": "stream",
     "text": [
      "{'Ramesh': 200.0, 'Suresh': 400.0, 'Mahesh': 350.0, 'Rishu': 234.0, 'Divyanshu': 234.0, 'Jyoti': 456.0, 'Radha': 789.0}\n"
     ]
    },
    {
     "data": {
      "text/plain": [
       "234.0"
      ]
     },
     "execution_count": 24,
     "metadata": {},
     "output_type": "execute_result"
    }
   ],
   "source": [
    "#This is just for practice\n",
    "print(Simple_int)\n",
    "Simple_int['Divyanshu']"
   ]
  },
  {
   "cell_type": "code",
   "execution_count": 33,
   "id": "8f8e1381",
   "metadata": {},
   "outputs": [],
   "source": [
    "def get_hash(key):\n",
    "    sum = 0 \n",
    "    for c in key:\n",
    "        sum += ord(c)\n",
    "    return sum % 100\n",
    "\n",
    "def get_hash(self, key):\n",
    "    sum = 0\n",
    "    for c in key:\n",
    "        sum += ord(c)\n",
    "    return sum % self.MAX"
   ]
  },
  {
   "cell_type": "code",
   "execution_count": 28,
   "id": "58376037",
   "metadata": {},
   "outputs": [
    {
     "data": {
      "text/plain": [
       "23"
      ]
     },
     "execution_count": 28,
     "metadata": {},
     "output_type": "execute_result"
    }
   ],
   "source": [
    "get_hash('Rishu')"
   ]
  },
  {
   "cell_type": "code",
   "execution_count": 46,
   "id": "7f081743",
   "metadata": {},
   "outputs": [],
   "source": [
    "class HashTable:\n",
    "    def __init__(self):\n",
    "        self.MAX = 100\n",
    "        self.arr = [None]*self.MAX\n",
    "    \n",
    "    #This method is used get hash map function\n",
    "    def get_hash(self, key):\n",
    "        sum = 0\n",
    "        for c in key:\n",
    "            sum += ord(c)\n",
    "        return sum % self.MAX\n",
    "    \n",
    "    #This method is used to set key and values to the dictionary\n",
    "    def __setitem__(self, key, val):\n",
    "        h = self.get_hash(key)\n",
    "        self.arr[h] = val\n",
    "        \n",
    "    #This method is used to get item using lookup by keys\n",
    "    def __getitem__(self, key):\n",
    "        h = self.get_hash(key)\n",
    "        return self.arr[h]\n",
    "    \n",
    "    #This method is used to delete item using lookup by keys\n",
    "    def __delitem__(self, key):\n",
    "        h = self.get_hash(key)\n",
    "        self.arr[h] = None\n",
    "        "
   ]
  },
  {
   "cell_type": "code",
   "execution_count": 47,
   "id": "cb5df646",
   "metadata": {},
   "outputs": [],
   "source": [
    "h = HashTable()\n",
    "h['March 6'] = 302\n",
    "h['March 11'] = 78\n",
    "h['March 13'] = 251"
   ]
  },
  {
   "cell_type": "code",
   "execution_count": 48,
   "id": "63330610",
   "metadata": {},
   "outputs": [
    {
     "data": {
      "text/plain": [
       "78"
      ]
     },
     "execution_count": 48,
     "metadata": {},
     "output_type": "execute_result"
    }
   ],
   "source": [
    "h['March 11']"
   ]
  },
  {
   "cell_type": "code",
   "execution_count": null,
   "id": "b06904d2",
   "metadata": {},
   "outputs": [],
   "source": []
  }
 ],
 "metadata": {
  "kernelspec": {
   "display_name": "Python 3 (ipykernel)",
   "language": "python",
   "name": "python3"
  },
  "language_info": {
   "codemirror_mode": {
    "name": "ipython",
    "version": 3
   },
   "file_extension": ".py",
   "mimetype": "text/x-python",
   "name": "python",
   "nbconvert_exporter": "python",
   "pygments_lexer": "ipython3",
   "version": "3.9.12"
  }
 },
 "nbformat": 4,
 "nbformat_minor": 5
}
